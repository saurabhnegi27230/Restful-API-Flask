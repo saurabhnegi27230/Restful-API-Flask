{
  "nbformat": 4,
  "nbformat_minor": 0,
  "metadata": {
    "colab": {
      "provenance": []
    },
    "kernelspec": {
      "name": "python3",
      "display_name": "Python 3"
    },
    "language_info": {
      "name": "python"
    }
  },
  "cells": [
    {
      "cell_type": "markdown",
      "source": [
        "**Restful API & Flask Question and Answer**\n",
        "\n",
        "Q1: What is a RESTful API?\n",
        "\n",
        "A RESTful API is an interface that follows Representational State Transfer (REST) principles. It uses standard HTTP methods (GET, POST, PUT, DELETE) to perform CRUD operations on resources, typically represented in JSON.\n",
        "\n",
        "Q2: Explain the concept of API specification.\n",
        "\n",
        "An API specification is a detailed blueprint describing how an API works — endpoints, request/response formats, authentication, and error codes. Examples include OpenAPI/Swagger specs.\n",
        "\n",
        "Q3: What is Flask, and why is it popular for building APIs?\n",
        "\n",
        "Flask is a lightweight Python micro-framework. It’s popular because it is simple, flexible, has minimal setup, and supports extensions like Flask-RESTful and Flask-SQLAlchemy.\n",
        "\n",
        "Q4: What is routing in Flask?\n",
        "\n",
        "Routing maps URLs (endpoints) to functions. Each route defines what function executes when a client sends a request to that URL.\n",
        "\n",
        "Q5: How do you create a simple Flask application?\n",
        "from flask import Flask\n",
        "app = Flask(__name__)\n",
        "\n",
        "@app.route(\"/\")\n",
        "def home():\n",
        "    return \"Hello, Flask!\"\n",
        "\n",
        "if __name__ == \"__main__\":\n",
        "    app.run(debug=True)\n",
        "\n",
        "Q6: What are HTTP methods used in RESTful APIs?\n",
        "\n",
        "GET: Retrieve data\n",
        "\n",
        "POST: Create new data\n",
        "\n",
        "PUT: Update existing data\n",
        "\n",
        "DELETE: Remove data\n",
        "\n",
        "PATCH: Partial update\n",
        "\n",
        "Q7: What is the purpose of the @app.route() decorator in Flask?\n",
        "\n",
        "It binds a URL endpoint to a function, telling Flask which function should handle requests to that URL.\n",
        "\n",
        "Q8: What is the difference between GET and POST HTTP methods?\n",
        "\n",
        "GET: Retrieves data, parameters passed in URL, idempotent.\n",
        "\n",
        "POST: Sends data to the server (in body), used for creating resources, not idempotent.\n",
        "\n",
        "Q9: How do you handle errors in Flask APIs?\n",
        "\n",
        "Use error handlers with @app.errorhandler or return responses with appropriate status codes.\n",
        "\n",
        "@app.errorhandler(404)\n",
        "def not_found(e):\n",
        "    return {\"error\": \"Not Found\"}, 404\n",
        "\n",
        "Q10: How do you connect Flask to a SQL database?\n",
        "\n",
        "Using libraries like Flask-SQLAlchemy:\n",
        "\n",
        "app.config[\"SQLALCHEMY_DATABASE_URI\"] = \"sqlite:///test.db\"\n",
        "db = SQLAlchemy(app)\n",
        "\n",
        "Q11: What is the role of Flask-SQLAlchemy?\n",
        "\n",
        "It is an ORM (Object Relational Mapper) that simplifies database operations by mapping Python classes to database tables.\n",
        "\n",
        "Q12: What are Flask blueprints, and how are they useful?\n",
        "\n",
        "Blueprints allow modularizing large applications by grouping routes, views, and static files into reusable components.\n",
        "\n",
        "Q13: What is the purpose of Flask's request object?\n",
        "\n",
        "request holds incoming HTTP request data such as method, headers, query parameters, and body (JSON/form data).\n",
        "\n",
        "Q14: How do you create a RESTful API endpoint using Flask?\n",
        "from flask import Flask, jsonify, request\n",
        "app = Flask(__name__)\n",
        "\n",
        "@app.route(\"/api/data\", methods=[\"GET\"])\n",
        "def get_data():\n",
        "    return jsonify({\"message\": \"Hello API!\"})\n",
        "\n",
        "Q15: What is the purpose of Flask's jsonify() function?\n",
        "\n",
        "It converts Python dictionaries/lists into JSON responses with correct content-type headers.\n",
        "\n",
        "Q16: Explain Flask’s url_for() function.\n",
        "\n",
        "It dynamically generates URLs for routes using function names instead of hardcoding URLs.\n",
        "\n",
        "Q17: How does Flask handle static files (CSS, JavaScript, etc.)?\n",
        "\n",
        "Flask automatically serves files placed in the static/ folder via /static/filename.\n",
        "\n",
        "Q18: What is an API specification, and how does it help in building a Flask API?\n",
        "\n",
        "It defines rules for communication, making development, testing, and integration easier by ensuring consistency across teams and tools.\n",
        "\n",
        "Q19: What are HTTP status codes, and why are they important in a Flask API?\n",
        "\n",
        "Status codes indicate the result of a request:\n",
        "\n",
        "200 OK: success\n",
        "\n",
        "201 Created: resource created\n",
        "\n",
        "400 Bad Request: client error\n",
        "\n",
        "404 Not Found: resource missing\n",
        "\n",
        "500 Internal Server Error: server issue\n",
        "They provide clarity between client and server.\n",
        "\n",
        "Q20: How do you handle POST requests in Flask?\n",
        "@app.route(\"/submit\", methods=[\"POST\"])\n",
        "def submit():\n",
        "    data = request.json\n",
        "    return jsonify({\"received\": data}), 201\n",
        "\n",
        "Q21: How would you secure a Flask API?\n",
        "\n",
        "Use authentication & authorization (JWT, OAuth).\n",
        "\n",
        "Validate input to prevent injection.\n",
        "\n",
        "Use HTTPS.\n",
        "\n",
        "Rate limiting with extensions (Flask-Limiter).\n",
        "\n",
        "Q22: What is the significance of the Flask-RESTful extension?\n",
        "\n",
        "It simplifies building REST APIs by providing resource-based routing, request parsing, and automatic JSON responses.\n",
        "\n",
        "Q23: What is the role of Flask’s session object?\n",
        "\n",
        "It stores data across requests for a single user (client-side, stored in cookies but cryptographically signed)."
      ],
      "metadata": {
        "id": "aXUISzr5PpxA"
      }
    },
    {
      "cell_type": "markdown",
      "source": [
        "**Practical Question and Answer**"
      ],
      "metadata": {
        "id": "AXueBC65Pvvt"
      }
    },
    {
      "cell_type": "code",
      "source": [
        "#Q1: How do you create a basic Flask application?\n",
        "from flask import Flask\n",
        "app = Flask(__name__)\n",
        "\n",
        "@app.route(\"/\")\n",
        "def home():\n",
        "    return \"Hello, Flask!\"\n",
        "\n",
        "if __name__ == \"__main__\":\n",
        "    app.run(debug=True)\n"
      ],
      "metadata": {
        "id": "g7JYLXddP9Z-"
      },
      "execution_count": null,
      "outputs": []
    },
    {
      "cell_type": "code",
      "source": [
        "#Q2: How do you serve static files like images or CSS in Flask?\n",
        "\n",
        "Place files in a folder named static/ and access them via /static/filename. Example in HTML:\n",
        "\n",
        "<link rel=\"stylesheet\" href=\"{{ url_for('static', filename='style.css') }}\">\n",
        "<img src=\"{{ url_for('static', filename='logo.png') }}\">"
      ],
      "metadata": {
        "id": "r_ap8IefP9kN"
      },
      "execution_count": null,
      "outputs": []
    },
    {
      "cell_type": "code",
      "source": [
        "#Q3: How do you define different routes with different HTTP methods in Flask?\n",
        "@app.route(\"/data\", methods=[\"GET\", \"POST\"])\n",
        "def data():\n",
        "    if request.method == \"GET\":\n",
        "        return \"This is GET\"\n",
        "    if request.method == \"POST\":\n",
        "        return \"This is POST\""
      ],
      "metadata": {
        "id": "BCddOQ_IP93l"
      },
      "execution_count": null,
      "outputs": []
    },
    {
      "cell_type": "code",
      "source": [
        "#Q4: How do you render HTML templates in Flask?\n",
        "\n",
        "Store templates in a folder named templates/:\n",
        "\n",
        "from flask import render_template\n",
        "\n",
        "@app.route(\"/about\")\n",
        "def about():\n",
        "    return render_template(\"about.html\", name=\"Flask User\")"
      ],
      "metadata": {
        "id": "pvciCE3zP96f"
      },
      "execution_count": null,
      "outputs": []
    },
    {
      "cell_type": "code",
      "source": [
        "#Q5: How can you generate URLs for routes in Flask using url_for?\n",
        "from flask import url_for\n",
        "\n",
        "@app.route(\"/profile/<username>\")\n",
        "def profile(username):\n",
        "    return f\"Profile: {username}\"\n",
        "\n",
        "with app.test_request_context():\n",
        "    print(url_for(\"profile\", username=\"john\"))"
      ],
      "metadata": {
        "id": "wl6DVMggP989"
      },
      "execution_count": null,
      "outputs": []
    },
    {
      "cell_type": "code",
      "source": [
        "#Q6: How do you handle forms in Flask?\n",
        "from flask import request\n",
        "\n",
        "@app.route(\"/submit\", methods=[\"GET\", \"POST\"])\n",
        "def submit():\n",
        "    if request.method == \"POST\":\n",
        "        name = request.form[\"name\"]\n",
        "        return f\"Hello {name}\"\n",
        "    return '''\n",
        "        <form method=\"POST\">\n",
        "            <input type=\"text\" name=\"name\">\n",
        "            <input type=\"submit\">\n",
        "        </form>\n",
        "    '''\n"
      ],
      "metadata": {
        "id": "hbSraCK8P9_5"
      },
      "execution_count": null,
      "outputs": []
    },
    {
      "cell_type": "code",
      "source": [
        "#Q7: How can you validate form data in Flask?\n",
        "@app.route(\"/login\", methods=[\"POST\"])\n",
        "def login():\n",
        "    username = request.form.get(\"username\")\n",
        "    if not username:\n",
        "        return \"Username required\", 400\n",
        "    return f\"Welcome {username}\""
      ],
      "metadata": {
        "id": "MmUcdWTjP-Cn"
      },
      "execution_count": null,
      "outputs": []
    },
    {
      "cell_type": "code",
      "source": [
        "#Q8: How do you manage sessions in Flask?\n",
        "from flask import session\n",
        "\n",
        "app.secret_key = \"mysecret\"\n",
        "\n",
        "@app.route(\"/set\")\n",
        "def set_session():\n",
        "    session[\"user\"] = \"John\"\n",
        "    return \"Session set!\"\n",
        "\n",
        "@app.route(\"/get\")\n",
        "def get_session():\n",
        "    return session.get(\"user\", \"No user in session\")"
      ],
      "metadata": {
        "id": "HhcD0L6yP-FS"
      },
      "execution_count": null,
      "outputs": []
    },
    {
      "cell_type": "code",
      "source": [
        "#Q9: How do you redirect to a different route in Flask?\n",
        "from flask import redirect, url_for\n",
        "\n",
        "@app.route(\"/old\")\n",
        "def old():\n",
        "    return redirect(url_for(\"new\"))\n",
        "\n",
        "@app.route(\"/new\")\n",
        "def new():\n",
        "    return \"This is the new page\""
      ],
      "metadata": {
        "id": "YAUu41L0P-H9"
      },
      "execution_count": null,
      "outputs": []
    },
    {
      "cell_type": "code",
      "source": [
        "#Q10: How do you handle errors in Flask (e.g., 404)?\n",
        "@app.errorhandler(404)\n",
        "def not_found(error):\n",
        "    return \"Page not found!\", 404"
      ],
      "metadata": {
        "id": "i6Xr6vCwP-Kz"
      },
      "execution_count": null,
      "outputs": []
    },
    {
      "cell_type": "code",
      "source": [
        "#Q11: How do you structure a Flask app using Blueprints?\n",
        "# user.py\n",
        "from flask import Blueprint\n",
        "user_bp = Blueprint(\"user\", __name__)\n",
        "\n",
        "@user_bp.route(\"/profile\")\n",
        "def profile():\n",
        "    return \"User Profile\"\n",
        "\n",
        "# app.py\n",
        "from flask import Flask\n",
        "from user import user_bp\n",
        "app = Flask(__name__)\n",
        "app.register_blueprint(user_bp, url_prefix=\"/user\")"
      ],
      "metadata": {
        "id": "-wFpkLIMP-Nn"
      },
      "execution_count": null,
      "outputs": []
    },
    {
      "cell_type": "code",
      "source": [
        "#Q12: How do you define a custom Jinja filter in Flask?\n",
        "@app.template_filter(\"reverse\")\n",
        "def reverse_filter(s):\n",
        "    return s[::-1]\n",
        "\n",
        "# In template: {{ \"hello\" | reverse }}"
      ],
      "metadata": {
        "id": "dUbOII1iP-QU"
      },
      "execution_count": null,
      "outputs": []
    },
    {
      "cell_type": "code",
      "source": [
        "#Q13: How can you redirect with query parameters in Flask?\n",
        "@app.route(\"/go\")\n",
        "def go():\n",
        "    return redirect(url_for(\"target\", name=\"John\"))\n",
        "\n",
        "@app.route(\"/target\")\n",
        "def target():\n",
        "    name = request.args.get(\"name\")\n",
        "    return f\"Hello {name}\""
      ],
      "metadata": {
        "id": "Y08hgyHwQw-F"
      },
      "execution_count": null,
      "outputs": []
    },
    {
      "cell_type": "code",
      "source": [
        "#Q14: How do you return JSON responses in Flask?\n",
        "from flask import jsonify\n",
        "\n",
        "@app.route(\"/api\")\n",
        "def api():\n",
        "    return jsonify({\"message\": \"Hello JSON\", \"status\": \"success\"})"
      ],
      "metadata": {
        "id": "8M-F58P6Qz3X"
      },
      "execution_count": null,
      "outputs": []
    },
    {
      "cell_type": "code",
      "source": [
        "#Q15: How do you capture URL parameters in Flask?\n",
        "@app.route(\"/user/<username>/<int:age>\")\n",
        "def user_profile(username, age):\n",
        "    return f\"User {username}, Age {age}\"\n"
      ],
      "metadata": {
        "id": "bXmZaqI7QzsV"
      },
      "execution_count": null,
      "outputs": []
    }
  ]
}